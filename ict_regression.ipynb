{
 "cells": [
  {
   "cell_type": "markdown",
   "metadata": {},
   "source": [
    "# 제조 관련 데이터 factory의 회귀 분석\n",
    "공장 생성 시 수집 되는 데이터를 이용하여 생산 라인에서 생산 되는 상품의 품질을 예측해보자."
   ]
  },
  {
   "cell_type": "markdown",
   "metadata": {},
   "source": [
    "### 데이터 불러오기"
   ]
  },
  {
   "cell_type": "code",
   "execution_count": null,
   "metadata": {},
   "outputs": [],
   "source": [
    "import pandas as pd\n",
    "import numpy as np"
   ]
  },
  {
   "cell_type": "code",
   "execution_count": null,
   "metadata": {},
   "outputs": [],
   "source": [
    "df=pd.read_csv('factory.csv' ,header=0)\n",
    "df"
   ]
  },
  {
   "cell_type": "code",
   "execution_count": null,
   "metadata": {
    "scrolled": true
   },
   "outputs": [],
   "source": [
    "df.describe()"
   ]
  },
  {
   "cell_type": "code",
   "execution_count": null,
   "metadata": {},
   "outputs": [],
   "source": [
    "X=df.drop([\"output_quality\"],axis=1)\n",
    "y=df[\"output_quality\"]"
   ]
  },
  {
   "cell_type": "markdown",
   "metadata": {},
   "source": [
    "#### 다중공선성 분석"
   ]
  },
  {
   "cell_type": "code",
   "execution_count": null,
   "metadata": {},
   "outputs": [],
   "source": [
    "import matplotlib.pyplot as plt\n",
    "import seaborn as sns\n",
    "df1 = X.corr()\n",
    "mask = np.zeros_like(df1, dtype=np.bool)\n",
    "mask[np.triu_indices_from(mask)]= True\n",
    "f, ax = plt.subplots(figsize=(11, 9))\n",
    "ax = sns.heatmap(df1, cmap = 'coolwarm', square = True, mask = mask,\n",
    "                 vmin = -0.4, vmax = 0.4, annot = True, annot_kws = {\"size\": 15})"
   ]
  },
  {
   "cell_type": "markdown",
   "metadata": {},
   "source": [
    "### 선형 회귀분석 (Linear regression)"
   ]
  },
  {
   "cell_type": "markdown",
   "metadata": {},
   "source": [
    "#### Modle 1 : 기본모델링"
   ]
  },
  {
   "cell_type": "code",
   "execution_count": null,
   "metadata": {
    "scrolled": false
   },
   "outputs": [],
   "source": [
    "from sklearn.linear_model import LinearRegression\n",
    "import statsmodels.api as sm\n",
    "model1 = sm.OLS(y,sm.add_constant(X))\n",
    "result1 = model1.fit()\n",
    "result1.summary()"
   ]
  },
  {
   "cell_type": "markdown",
   "metadata": {},
   "source": [
    "#### Model2 : 변수 선택 후 모델링"
   ]
  },
  {
   "cell_type": "code",
   "execution_count": null,
   "metadata": {},
   "outputs": [],
   "source": [
    "X_reduced = X.drop(['motor_amperage'], axis = 'columns')\n",
    "model_reduced = sm.OLS(y,sm.add_constant(X_reduced))\n",
    "result_reduced = model_reduced.fit()\n",
    "result_reduced.summary()"
   ]
  },
  {
   "cell_type": "code",
   "execution_count": null,
   "metadata": {},
   "outputs": [],
   "source": [
    "X_reduced = X.drop(['motor_amperage', 'motor_RPM'], axis = 'columns')\n",
    "model_reduced = sm.OLS(y,sm.add_constant(X_reduced))\n",
    "result_reduced = model_reduced.fit()\n",
    "result_reduced.summary()"
   ]
  },
  {
   "cell_type": "code",
   "execution_count": null,
   "metadata": {},
   "outputs": [],
   "source": [
    "X_reduced = X.drop(['motor_amperage', 'motor_RPM','temp'], axis = 'columns')\n",
    "model_reduced = sm.OLS(y,sm.add_constant(X_reduced))\n",
    "result_reduced = model_reduced.fit()\n",
    "result_reduced.summary()"
   ]
  },
  {
   "cell_type": "markdown",
   "metadata": {},
   "source": [
    "## 데이터 구분 : 학습 데이터와 검증데이터\n",
    "* 전체 데이터를 학습 데이터와 검증 데이터로 50:50으로  구분"
   ]
  },
  {
   "cell_type": "code",
   "execution_count": null,
   "metadata": {},
   "outputs": [],
   "source": [
    "from sklearn.model_selection import train_test_split\n",
    "def data_split (x, y) : \n",
    "    X_train, X_test, y_train, y_test = train_test_split(x, y, test_size=0.5, random_state=1234)\n",
    "    return X_train, X_test, y_train, y_test"
   ]
  },
  {
   "cell_type": "code",
   "execution_count": null,
   "metadata": {},
   "outputs": [],
   "source": [
    " X_train, X_test, y_train, y_test = data_split (X,y)"
   ]
  },
  {
   "cell_type": "markdown",
   "metadata": {},
   "source": [
    "## Model 1: 선형 회귀모형\n",
    "* 설명변수 중 유의수준 5% 하에서 유의하지 않았던  Chol 콜레스테롤 변수를 제거하고 모델링"
   ]
  },
  {
   "cell_type": "code",
   "execution_count": null,
   "metadata": {},
   "outputs": [],
   "source": [
    "from sklearn.linear_model import LinearRegression"
   ]
  },
  {
   "cell_type": "code",
   "execution_count": null,
   "metadata": {},
   "outputs": [],
   "source": [
    "# 설명 변수중 유의하지 않은 변수 제거 \n",
    "X_train_selected = X_train.drop(['motor_amperage', 'motor_RPM','temp'],axis=1)\n",
    "X_test_selected = X_test.drop(['motor_amperage', 'motor_RPM','temp'],axis=1)"
   ]
  },
  {
   "cell_type": "code",
   "execution_count": null,
   "metadata": {},
   "outputs": [],
   "source": [
    "# training the model & prediction\n",
    "model_reg = LinearRegression(fit_intercept = True)\n",
    "fit_reg=model_reg.fit(X_train_selected ,y_train)\n",
    "y_pred_reg= fit_reg.predict(X_test_selected)"
   ]
  },
  {
   "cell_type": "code",
   "execution_count": null,
   "metadata": {},
   "outputs": [],
   "source": [
    "# plot : prediction vs true\n",
    "import matplotlib.pyplot as plt\n",
    "def pred_vs_true (y_pred) :\n",
    "    plt.scatter(y_test, y_pred, alpha=0.3)\n",
    "    plt.xlabel(\"Actual Quality\")\n",
    "    plt.ylabel(\"Predicted Quality\")\n",
    "    grid = np.linspace(1,12,1000)\n",
    "    plt.plot(grid, grid, '-', color = 'r');\n",
    "    plt.show()"
   ]
  },
  {
   "cell_type": "code",
   "execution_count": null,
   "metadata": {},
   "outputs": [],
   "source": [
    "pred_vs_true (y_pred_reg)"
   ]
  },
  {
   "cell_type": "markdown",
   "metadata": {},
   "source": [
    "## Model2 : 신경망\n",
    "* hidden_layer_sizes=(3,4,5),random_state=1234, max_iter = 1000"
   ]
  },
  {
   "cell_type": "code",
   "execution_count": null,
   "metadata": {},
   "outputs": [],
   "source": [
    "from sklearn.neural_network import MLPRegressor\n",
    "from sklearn.preprocessing import StandardScaler"
   ]
  },
  {
   "cell_type": "code",
   "execution_count": null,
   "metadata": {},
   "outputs": [],
   "source": [
    "# data scaling \n",
    "scaler = StandardScaler()\n",
    "X_train_scaled = scaler.fit_transform(X_train)\n",
    "X_test_scaled = scaler.transform(X_test)"
   ]
  },
  {
   "cell_type": "code",
   "execution_count": null,
   "metadata": {},
   "outputs": [],
   "source": [
    "# training the model & prediction\n",
    "model_nn = MLPRegressor(hidden_layer_sizes=(3,4,5),random_state=1234, max_iter = 1000)\n",
    "fit_nn = model_nn.fit(X_train_scaled, y_train)\n",
    "y_pred_nn =fit_nn.predict(X_test_scaled)"
   ]
  },
  {
   "cell_type": "code",
   "execution_count": null,
   "metadata": {},
   "outputs": [],
   "source": [
    "pred_vs_true (y_pred_nn)"
   ]
  },
  {
   "cell_type": "markdown",
   "metadata": {},
   "source": [
    "## Model3 : 의사결정나무"
   ]
  },
  {
   "cell_type": "code",
   "execution_count": null,
   "metadata": {},
   "outputs": [],
   "source": [
    "from sklearn.tree import DecisionTreeRegressor"
   ]
  },
  {
   "cell_type": "code",
   "execution_count": null,
   "metadata": {},
   "outputs": [],
   "source": [
    "model_tree = DecisionTreeRegressor(random_state = 1234)\n",
    "fit_tree=model_tree.fit(X_train,y_train)\n",
    "y_pred_tree = fit_tree.predict(X_test)"
   ]
  },
  {
   "cell_type": "code",
   "execution_count": null,
   "metadata": {},
   "outputs": [],
   "source": [
    "pred_vs_true (y_pred_tree)"
   ]
  },
  {
   "cell_type": "markdown",
   "metadata": {},
   "source": [
    "## Model4: 랜덤포레스트"
   ]
  },
  {
   "cell_type": "code",
   "execution_count": null,
   "metadata": {},
   "outputs": [],
   "source": [
    "from sklearn.ensemble import RandomForestRegressor"
   ]
  },
  {
   "cell_type": "code",
   "execution_count": null,
   "metadata": {},
   "outputs": [],
   "source": [
    "model_rf = RandomForestRegressor(random_state=1234)\n",
    "fit_rf=model_rf.fit(X_train,y_train)\n",
    "y_pred_rf = fit_rf.predict(X_test)"
   ]
  },
  {
   "cell_type": "code",
   "execution_count": null,
   "metadata": {},
   "outputs": [],
   "source": [
    "pred_vs_true (y_pred_rf)"
   ]
  },
  {
   "cell_type": "markdown",
   "metadata": {},
   "source": [
    "## Model5: 서포트벡터머신(SVR)\n",
    "* kernel 은 linear, polynomial, rbf 3가지로 진행하였고, 최종 모형 비교에는 default 값인 radial basis kernel을 활용"
   ]
  },
  {
   "cell_type": "code",
   "execution_count": null,
   "metadata": {},
   "outputs": [],
   "source": [
    "# Feature Scaling\n",
    "from sklearn.preprocessing import StandardScaler\n",
    "scaler = StandardScaler()\n",
    "X_train_scaled = scaler.fit_transform(X_train)\n",
    "X_test_scaled = scaler.transform(X_test)"
   ]
  },
  {
   "cell_type": "code",
   "execution_count": null,
   "metadata": {},
   "outputs": [],
   "source": [
    "#rbf kernel (디폴트)\n",
    "from sklearn.svm import SVR, SVC\n",
    "model_svr_rbf = SVR() #rbf SVM #디폴트\n",
    "fit_svr_rbf = model_svr_rbf .fit(X_train_scaled, y_train)\n",
    "y_pred_svr_rbf  = fit_svr_rbf.predict(X_test_scaled)"
   ]
  },
  {
   "cell_type": "code",
   "execution_count": null,
   "metadata": {},
   "outputs": [],
   "source": [
    "pred_vs_true (y_pred_svr_rbf)"
   ]
  },
  {
   "cell_type": "markdown",
   "metadata": {},
   "source": [
    "## 모형비교\n",
    "* RMSE 와 MAPE를 기준으로 test set data에 대한 예측력을 비교하였다.\n",
    "* 두 가지 기준에서 모두 Radomforest, neural network의 예측 성능이 우월하였다."
   ]
  },
  {
   "cell_type": "code",
   "execution_count": null,
   "metadata": {},
   "outputs": [],
   "source": [
    "def RMSE(y_actual, y_pred):\n",
    "    error = y_actual- y_pred\n",
    "    n = len(y_actual)\n",
    "    return np.sqrt(np.mean(error**2))"
   ]
  },
  {
   "cell_type": "code",
   "execution_count": null,
   "metadata": {},
   "outputs": [],
   "source": [
    "rmse_reg = RMSE(y_test, y_pred_reg)\n",
    "rmse_nn = RMSE(y_test, y_pred_nn)\n",
    "rmse_tree = RMSE(y_test, y_pred_tree)\n",
    "rmse_rf = RMSE(y_test, y_pred_rf)\n",
    "rmse_svr = RMSE(y_test, y_pred_svr_rbf)"
   ]
  },
  {
   "cell_type": "code",
   "execution_count": null,
   "metadata": {},
   "outputs": [],
   "source": [
    "plt.plot(['regression', 'neural network', 'decision tree', 'random forest', 'SVR'], \n",
    "         [rmse_reg, rmse_nn, rmse_tree, rmse_rf, rmse_svr], marker='o')\n",
    "plt.ylabel('RMSE', size=15);"
   ]
  },
  {
   "cell_type": "code",
   "execution_count": null,
   "metadata": {},
   "outputs": [],
   "source": [
    "def MAPE(y_actual, y_pred):\n",
    "    not_zero_idx = y_actual!=0\n",
    "    _y_actual = y_actual[not_zero_idx]\n",
    "    _y_pred = y_pred[not_zero_idx]   \n",
    "    abs_error = abs(_y_actual - _y_pred)\n",
    "    n = len(_y_actual)    \n",
    "    return sum(abs_error / _y_actual) / n * 100"
   ]
  },
  {
   "cell_type": "code",
   "execution_count": null,
   "metadata": {},
   "outputs": [],
   "source": [
    "mape_reg = MAPE(y_test, y_pred_reg)\n",
    "mape_nn = MAPE(y_test, y_pred_nn)\n",
    "mape_tree = MAPE(y_test, y_pred_tree)\n",
    "mape_rf = MAPE(y_test, y_pred_rf)\n",
    "mape_svr = MAPE(y_test, y_pred_svr_rbf)"
   ]
  },
  {
   "cell_type": "code",
   "execution_count": null,
   "metadata": {},
   "outputs": [],
   "source": [
    "plt.plot(['regression', 'neural network', 'decision tree', 'random forest','SVR'], \n",
    "         [mape_reg, mape_nn, mape_tree, mape_rf, mape_svr], marker='o')\n",
    "plt.ylabel('MAPE', size=15);"
   ]
  },
  {
   "cell_type": "code",
   "execution_count": null,
   "metadata": {},
   "outputs": [],
   "source": []
  }
 ],
 "metadata": {
  "kernelspec": {
   "display_name": "Python 3",
   "language": "python",
   "name": "python3"
  },
  "language_info": {
   "codemirror_mode": {
    "name": "ipython",
    "version": 3
   },
   "file_extension": ".py",
   "mimetype": "text/x-python",
   "name": "python",
   "nbconvert_exporter": "python",
   "pygments_lexer": "ipython3",
   "version": "3.7.3"
  }
 },
 "nbformat": 4,
 "nbformat_minor": 2
}
