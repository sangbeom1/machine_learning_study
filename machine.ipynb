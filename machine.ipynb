{
 "cells": [
  {
   "cell_type": "markdown",
   "metadata": {},
   "source": [
    "# 의사결정나무 예제"
   ]
  },
  {
   "cell_type": "markdown",
   "metadata": {},
   "source": [
    "## 타이타닉 데이터"
   ]
  },
  {
   "cell_type": "code",
   "execution_count": null,
   "metadata": {},
   "outputs": [],
   "source": [
    "import pandas as pd\n",
    "import numpy as np\n",
    "from statsmodels.graphics.mosaicplot import mosaic\n",
    "import matplotlib.pyplot as plt\n",
    "import seaborn as sns\n",
    "from sklearn import tree\n",
    "titanic = pd.read_csv(\"titanic.csv\")\n",
    "titanic"
   ]
  },
  {
   "cell_type": "markdown",
   "metadata": {},
   "source": [
    "### Exploratory analysis : table"
   ]
  },
  {
   "cell_type": "code",
   "execution_count": null,
   "metadata": {},
   "outputs": [],
   "source": [
    "pd.crosstab(titanic['Survived'], titanic['Sex']) "
   ]
  },
  {
   "cell_type": "code",
   "execution_count": null,
   "metadata": {},
   "outputs": [],
   "source": [
    "pd.crosstab(titanic['Survived'], titanic['Class'])"
   ]
  },
  {
   "cell_type": "code",
   "execution_count": null,
   "metadata": {},
   "outputs": [],
   "source": [
    "pd.crosstab(titanic['Survived'], titanic['Age'])"
   ]
  },
  {
   "cell_type": "markdown",
   "metadata": {},
   "source": [
    "### Exploratory analysis : mosaic plot"
   ]
  },
  {
   "cell_type": "code",
   "execution_count": null,
   "metadata": {},
   "outputs": [],
   "source": [
    "# AGE\n",
    "mosaic(titanic, [\"Age\",\"Survived\"])"
   ]
  },
  {
   "cell_type": "code",
   "execution_count": null,
   "metadata": {},
   "outputs": [],
   "source": [
    "# Sex\n",
    "mosaic(titanic, [\"Sex\",\"Survived\"])"
   ]
  },
  {
   "cell_type": "code",
   "execution_count": null,
   "metadata": {},
   "outputs": [],
   "source": [
    "# Class\n",
    "mosaic(titanic, [\"Class\",\"Survived\"])"
   ]
  },
  {
   "cell_type": "code",
   "execution_count": null,
   "metadata": {},
   "outputs": [],
   "source": [
    "# factor to number\n",
    "titanic.Survived = titanic.Survived.replace('No', 0)\n",
    "titanic.Survived = titanic.Survived.replace('Yes', 1)\n",
    "\n",
    "titanic.Age = titanic.Age.replace('Child', 0)\n",
    "titanic.Age = titanic.Age.replace('Adult', 1)\n",
    "\n",
    "titanic.Sex = titanic.Sex.replace('Male', 0)\n",
    "titanic.Sex = titanic.Sex.replace('Female', 1)\n",
    "\n",
    "titanic.Class = titanic.Class.replace('First', 1)\n",
    "titanic.Class = titanic.Class.replace('Second', 2)\n",
    "titanic.Class = titanic.Class.replace('Third', 3)\n",
    "titanic.Class = titanic.Class.replace('Crew', 4)"
   ]
  },
  {
   "cell_type": "code",
   "execution_count": null,
   "metadata": {},
   "outputs": [],
   "source": [
    "# Data for tree modeling\n",
    "X = titanic.drop('Survived', axis = 1)\n",
    "y = titanic['Survived']\n",
    "xname = X.columns\n",
    "yname = ['Die','Survived']"
   ]
  },
  {
   "cell_type": "code",
   "execution_count": null,
   "metadata": {},
   "outputs": [],
   "source": [
    "# Decision Tree\n",
    "DT = tree.DecisionTreeClassifier(max_depth = 3, min_impurity_decrease=0.003)\n",
    "DT_fit = DT.fit(X, y)\n",
    "plt.subplots(figsize=(11, 9))\n",
    "tree.plot_tree(DT_fit, feature_names=xname, class_names=yname, filled=True) "
   ]
  },
  {
   "cell_type": "markdown",
   "metadata": {},
   "source": [
    "## 구매 예측 예제"
   ]
  },
  {
   "cell_type": "code",
   "execution_count": null,
   "metadata": {},
   "outputs": [],
   "source": [
    "import pandas as pd\n",
    "import numpy as np\n",
    "direct2 = pd.read_csv('direct2.csv')\n",
    "direct2"
   ]
  },
  {
   "cell_type": "code",
   "execution_count": null,
   "metadata": {},
   "outputs": [],
   "source": [
    "direct2.isnull().sum()"
   ]
  },
  {
   "cell_type": "code",
   "execution_count": null,
   "metadata": {},
   "outputs": [],
   "source": [
    "direct2 = direct2.dropna()\n",
    "direct2.shape"
   ]
  },
  {
   "cell_type": "code",
   "execution_count": null,
   "metadata": {},
   "outputs": [],
   "source": [
    "X = direct2.drop('Buy',axis = 'columns')\n",
    "y = direct2['Buy']"
   ]
  },
  {
   "cell_type": "code",
   "execution_count": null,
   "metadata": {},
   "outputs": [],
   "source": [
    "from sklearn.tree import DecisionTreeClassifier\n",
    "from sklearn.tree import plot_tree"
   ]
  },
  {
   "cell_type": "code",
   "execution_count": null,
   "metadata": {},
   "outputs": [],
   "source": [
    "#model_tree = DecisionTreeClassifier(max_depth=2)\n",
    "model_tree = DecisionTreeClassifier(min_impurity_decrease=0.0005, min_samples_split=100)\n",
    "fit_tree = model_tree.fit(X, y)"
   ]
  },
  {
   "cell_type": "code",
   "execution_count": null,
   "metadata": {},
   "outputs": [],
   "source": [
    "import matplotlib.pyplot as plt\n",
    "fig, ax = plt.subplots(figsize=(24, 12))\n",
    "xname = X.columns\n",
    "yname = ['Nonbuyer','Buyer']\n",
    "plot_tree(fit_tree, feature_names=xname, class_names=yname, filled=True, fontsize=10) "
   ]
  },
  {
   "cell_type": "code",
   "execution_count": null,
   "metadata": {},
   "outputs": [],
   "source": [
    "smith = [35, 1, 1, 2, 500, 3, 3, 18, 1] \n",
    "johnson = [36, 0, 1, 1, 550, 2, 1, 15, 1]\n",
    "people = pd.DataFrame([smith, johnson],\n",
    "                      columns=['Age','Gender','Married','Children',\n",
    "                               'Income','Ccard','Recent','Climate','Urban'])\n",
    "people"
   ]
  },
  {
   "cell_type": "code",
   "execution_count": null,
   "metadata": {},
   "outputs": [],
   "source": [
    "fit_tree.predict_proba(people)[:,1]"
   ]
  },
  {
   "cell_type": "code",
   "execution_count": null,
   "metadata": {},
   "outputs": [],
   "source": [
    "from sklearn.metrics import plot_roc_curve\n",
    "roc_tree = plot_roc_curve(fit_tree, X, y)\n",
    "roc_tree.figure_.suptitle(\"ROC curve\")"
   ]
  },
  {
   "cell_type": "markdown",
   "metadata": {},
   "source": [
    "# 신경망 분석 예제"
   ]
  },
  {
   "cell_type": "code",
   "execution_count": null,
   "metadata": {},
   "outputs": [],
   "source": [
    "import pandas as pd\n",
    "import numpy as np\n",
    "direct2 = pd.read_csv('direct2.csv')\n",
    "direct2"
   ]
  },
  {
   "cell_type": "code",
   "execution_count": null,
   "metadata": {},
   "outputs": [],
   "source": [
    "direct2.isnull().sum()"
   ]
  },
  {
   "cell_type": "code",
   "execution_count": null,
   "metadata": {},
   "outputs": [],
   "source": [
    "direct2 = direct2.dropna()\n",
    "direct2.shape"
   ]
  },
  {
   "cell_type": "code",
   "execution_count": null,
   "metadata": {},
   "outputs": [],
   "source": [
    "X = direct2.drop('Buy',axis = 'columns')\n",
    "y = direct2['Buy']"
   ]
  },
  {
   "cell_type": "code",
   "execution_count": null,
   "metadata": {},
   "outputs": [],
   "source": [
    "smith = [35, 1, 1, 2, 500, 3, 3, 18, 1] \n",
    "johnson = [36, 0, 1, 1, 550, 2, 1, 15, 1]\n",
    "people = pd.DataFrame([smith, johnson],\n",
    "                      columns=['Age','Gender','Married','Children',\n",
    "                               'Income','Ccard','Recent','Climate','Urban'])\n",
    "people"
   ]
  },
  {
   "cell_type": "code",
   "execution_count": null,
   "metadata": {},
   "outputs": [],
   "source": [
    "temp = pd.concat([X, people], axis = 0)\n",
    "temp"
   ]
  },
  {
   "cell_type": "code",
   "execution_count": null,
   "metadata": {},
   "outputs": [],
   "source": [
    "from sklearn.neural_network import MLPClassifier\n",
    "from sklearn.preprocessing import StandardScaler"
   ]
  },
  {
   "cell_type": "code",
   "execution_count": null,
   "metadata": {},
   "outputs": [],
   "source": [
    "scaler = StandardScaler()\n",
    "temp_scaled = scaler.fit_transform(temp)\n",
    "temp_scaled = pd.DataFrame(temp_scaled,columns=['Age','Gender','Married','Children','Income','Ccard','Recent','Climate','Urban'])\n",
    "temp_scaled"
   ]
  },
  {
   "cell_type": "code",
   "execution_count": null,
   "metadata": {},
   "outputs": [],
   "source": [
    "X_scaled = temp_scaled.iloc[:-2,:]\n",
    "X_scaled"
   ]
  },
  {
   "cell_type": "code",
   "execution_count": null,
   "metadata": {},
   "outputs": [],
   "source": [
    "people = temp_scaled.iloc[-2:,:]\n",
    "people"
   ]
  },
  {
   "cell_type": "code",
   "execution_count": null,
   "metadata": {},
   "outputs": [],
   "source": [
    "model_nn = MLPClassifier(hidden_layer_sizes=(5),random_state=1234, max_iter = 2000)\n",
    "fit_nn = model_nn.fit(X_scaled, y)"
   ]
  },
  {
   "cell_type": "code",
   "execution_count": null,
   "metadata": {},
   "outputs": [],
   "source": [
    "fit_nn.predict_proba(people)[:,1]"
   ]
  },
  {
   "cell_type": "code",
   "execution_count": null,
   "metadata": {},
   "outputs": [],
   "source": [
    "from sklearn.metrics import plot_roc_curve\n",
    "roc_nn = plot_roc_curve(fit_nn, X_scaled, y)\n",
    "roc_nn.figure_.suptitle(\"ROC curve\")"
   ]
  },
  {
   "cell_type": "markdown",
   "metadata": {},
   "source": [
    "# SVM 분석 예제"
   ]
  },
  {
   "cell_type": "code",
   "execution_count": null,
   "metadata": {},
   "outputs": [],
   "source": [
    "import pandas as pd\n",
    "import numpy as np\n",
    "direct2 = pd.read_csv('direct2.csv')\n",
    "direct2"
   ]
  },
  {
   "cell_type": "code",
   "execution_count": null,
   "metadata": {},
   "outputs": [],
   "source": [
    "direct2 = direct2.dropna()\n",
    "direct2.shape"
   ]
  },
  {
   "cell_type": "code",
   "execution_count": null,
   "metadata": {},
   "outputs": [],
   "source": [
    "X = direct2.drop('Buy',axis = 'columns')\n",
    "y = direct2['Buy']"
   ]
  },
  {
   "cell_type": "code",
   "execution_count": null,
   "metadata": {},
   "outputs": [],
   "source": [
    "smith = [35, 1, 1, 2, 500, 3, 3, 18, 1] \n",
    "johnson = [36, 0, 1, 1, 550, 2, 1, 15, 1]\n",
    "people = pd.DataFrame([smith, johnson],\n",
    "                      columns=['Age','Gender','Married','Children',\n",
    "                               'Income','Ccard','Recent','Climate','Urban'])\n",
    "people"
   ]
  },
  {
   "cell_type": "code",
   "execution_count": null,
   "metadata": {},
   "outputs": [],
   "source": [
    "from sklearn.svm import SVC\n",
    "#model_svm = SVC(kernel='linear', probability=True, random_state=1234)\n",
    "model_svm = SVC(kernel='poly', C=0.1, probability=True, random_state=1234)\n",
    "fit_svm = model_svm.fit(X, y) # very slow"
   ]
  },
  {
   "cell_type": "code",
   "execution_count": null,
   "metadata": {},
   "outputs": [],
   "source": [
    "fit_svm.predict_proba(people)[:,1]"
   ]
  },
  {
   "cell_type": "code",
   "execution_count": null,
   "metadata": {},
   "outputs": [],
   "source": [
    "from sklearn.metrics import plot_roc_curve\n",
    "roc_svm = plot_roc_curve(fit_svm, X, y)\n",
    "roc_svm.figure_.suptitle(\"ROC curve\")"
   ]
  },
  {
   "cell_type": "code",
   "execution_count": null,
   "metadata": {},
   "outputs": [],
   "source": []
  }
 ],
 "metadata": {
  "kernelspec": {
   "display_name": "Python 3",
   "language": "python",
   "name": "python3"
  },
  "language_info": {
   "codemirror_mode": {
    "name": "ipython",
    "version": 3
   },
   "file_extension": ".py",
   "mimetype": "text/x-python",
   "name": "python",
   "nbconvert_exporter": "python",
   "pygments_lexer": "ipython3",
   "version": "3.7.3"
  }
 },
 "nbformat": 4,
 "nbformat_minor": 4
}
